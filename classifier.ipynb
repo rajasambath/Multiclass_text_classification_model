{
 "cells": [
  {
   "cell_type": "code",
   "execution_count": 2,
   "id": "ba5ced7d",
   "metadata": {},
   "outputs": [
    {
     "name": "stderr",
     "output_type": "stream",
     "text": [
      "c:\\users\\administrator\\appdata\\local\\programs\\python\\python37\\lib\\site-packages\\ipykernel_launcher.py:24: FutureWarning: In a future version of pandas all arguments of DataFrame.drop except for the argument 'labels' will be keyword-only\n"
     ]
    },
    {
     "name": "stdout",
     "output_type": "stream",
     "text": [
      "[[219   1   0   0   2]\n",
      " [  3  53   0   0   1]\n",
      " [  0   0  90   0   1]\n",
      " [  0   0   0 110   0]\n",
      " [  0   0   0   0 196]]\n",
      "              precision    recall  f1-score   support\n",
      "\n",
      "           1       0.99      0.99      0.99       222\n",
      "           2       0.98      0.93      0.95        57\n",
      "           3       1.00      0.99      0.99        91\n",
      "           4       1.00      1.00      1.00       110\n",
      "           5       0.98      1.00      0.99       196\n",
      "\n",
      "    accuracy                           0.99       676\n",
      "   macro avg       0.99      0.98      0.99       676\n",
      "weighted avg       0.99      0.99      0.99       676\n",
      "\n",
      "top 10 keywords per class:\n",
      "1: cloudstack design refactor bug duplic structur perform improv fix featur\n",
      "2: cloudstack design refactor bug duplic structur perform improv fix featur\n",
      "3: cloudstack design refactor bug duplic structur perform improv fix featur\n",
      "4: cloudstack design refactor bug duplic structur perform improv fix featur\n",
      "5: cloudstack design refactor bug duplic structur perform improv fix featur\n"
     ]
    },
    {
     "name": "stderr",
     "output_type": "stream",
     "text": [
      "c:\\users\\administrator\\appdata\\local\\programs\\python\\python37\\lib\\site-packages\\sklearn\\utils\\deprecation.py:87: FutureWarning: Function get_feature_names is deprecated; get_feature_names is deprecated in 1.0 and will be removed in 1.2. Please use get_feature_names_out instead.\n",
      "  warnings.warn(msg, category=FutureWarning)\n"
     ]
    }
   ],
   "source": [
    "import pandas as pd\n",
    "import re\n",
    "import numpy as np\n",
    "from nltk.corpus import stopwords\n",
    "from nltk.stem import PorterStemmer\n",
    "from sklearn.feature_extraction.text import TfidfVectorizer\n",
    "from sklearn.pipeline import Pipeline\n",
    "from sklearn.metrics import classification_report, confusion_matrix\n",
    "from sklearn.model_selection import train_test_split\n",
    "from sklearn.feature_selection import SelectKBest, chi2\n",
    "from sqlite3 import Error\n",
    "from sklearn.ensemble import RandomForestClassifier\n",
    "import sqlite3\n",
    "import pickle\n",
    "\n",
    "#connecting tot he database to load the data. the below database contains the commit messages and their corresponding labels\n",
    "try:\n",
    "    conn = sqlite3.connect(\"training_V2.db\")\n",
    "except Error as e:\n",
    "    print(e)\n",
    "\n",
    "#reading the data from the table that contains the labels\t\n",
    "df = pd.read_sql_query('SELECT * FROM filtered', conn)\n",
    "df.drop(['id'], 1, inplace=True)\n",
    "\n",
    "# print(df.head())\n",
    "# this block preprocess the text, removes the stop words and transform the text into vector space using tfidf vectorizer\n",
    "stemmer = PorterStemmer()\n",
    "words = stopwords.words(\"english\")\n",
    "vectorizer = TfidfVectorizer(min_df= 3, stop_words=\"english\", sublinear_tf=True)\n",
    "\n",
    "df['cleaned'] = df['text'].apply(lambda x: \" \".join([stemmer.stem(i) for i in re.sub(\"[^a-zA-Z]\", \" \", x).split() if i not in words]).lower())\n",
    "\n",
    "# this block is to split the dataset into training and testing set \n",
    "X = df['cleaned']\n",
    "Y = df['class']\n",
    "X_train, X_test, y_train, y_test = train_test_split(X, Y, test_size=0.20)\n",
    "\n",
    "\n",
    "pipeline = Pipeline([('vect', vectorizer),\n",
    "                     ('chi',  SelectKBest(chi2, k=1000)),\n",
    "                     ('clf', RandomForestClassifier())])\n",
    "\n",
    "# fitting our model and save it in a pickle for later use\n",
    "model = pipeline.fit(X_train, y_train)\n",
    "with open('RandomForest.pickle', 'wb') as f:\n",
    "    pickle.dump(model, f)\n",
    "\n",
    "ytest = np.array(y_test)\n",
    "\n",
    "# confusion matrix and classification report(precision, recall, F1-score)\n",
    "print(confusion_matrix(ytest, model.predict(X_test)))\n",
    "print(classification_report(ytest, model.predict(X_test)))\n",
    "vectorizer = model.named_steps['vect']\n",
    "chi = model.named_steps['chi']\n",
    "clf = model.named_steps['clf']\n",
    "\n",
    "feature_names = vectorizer.get_feature_names()\n",
    "feature_names = [feature_names[i] for i in chi.get_support(indices=True)]\n",
    "feature_names = np.asarray(feature_names)\n",
    "\n",
    "# in this case, I have 5 different classes:\n",
    "\n",
    "target_names = ['1', '2', '3', '4', '5']\n",
    "print(\"top 10 keywords per class:\")\n",
    "for i, label in enumerate(target_names):\n",
    "    top10 = np.argsort(clf.feature_importances_)[-10:]\n",
    "    print(\"%s: %s\" % (label, \" \".join(feature_names[top10])))\n"
   ]
  }
 ],
 "metadata": {
  "kernelspec": {
   "display_name": "Python 3 (ipykernel)",
   "language": "python",
   "name": "python3"
  },
  "language_info": {
   "codemirror_mode": {
    "name": "ipython",
    "version": 3
   },
   "file_extension": ".py",
   "mimetype": "text/x-python",
   "name": "python",
   "nbconvert_exporter": "python",
   "pygments_lexer": "ipython3",
   "version": "3.7.7"
  }
 },
 "nbformat": 4,
 "nbformat_minor": 5
}
